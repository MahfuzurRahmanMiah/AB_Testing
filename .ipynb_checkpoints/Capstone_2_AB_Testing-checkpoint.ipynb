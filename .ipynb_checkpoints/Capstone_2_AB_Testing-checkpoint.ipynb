{
 "cells": [
  {
   "cell_type": "markdown",
   "metadata": {},
   "source": [
    "## Exploratory Data Analysis of Stroke Data\n",
    "By Mahfuz Miah, September 5, 2019"
   ]
  },
  {
   "cell_type": "markdown",
   "metadata": {},
   "source": [
    "## 1. Synopsis\n",
    "For this project, I performed some exploratory analysis on stroke data. This dataset was found on Kaggle, uploaded by user SaumyaAgarwal and can be retrieved at this link: [Stroke Data](https://www.kaggle.com/asaumya/healthcare-dataset-stroke-data). The dataset we have executed our code on was downloaded on Sept 5th, 2019.\n",
    "\n",
    "The goal of our project was to investigate the relationship between incidence of stroke and other categorical knowledge about a patient. In this dataset, we have data about gender, age, hypertension, heart disease, marriage status, work type, residence type, glucose level BMI, smoking status and incidence of stroke. We are curious to see how these different measures relate to stroke incidence."
   ]
  },
  {
   "cell_type": "markdown",
   "metadata": {},
   "source": [
    "## 2. Background\n",
    "Here are the definitions of the columns of the data:\n",
    "\n",
    "- id-Patient ID\n",
    "- gender-Gender of Patient\n",
    "- age-Age of Patient\n",
    "- hypertension-0 - no hypertension, 1 - suffering from hypertension\n",
    "- heart_disease-0 - no heart disease, 1 - suffering from heart disease\n",
    "- ever_married-Yes/No\n",
    "- work_type-Type of occupation\n",
    "- Residence_type-Area type of residence (Urban/ Rural)\n",
    "- avg_glucose_level-Average Glucose level (measured after meal)\n",
    "- bmi-Body mass index\n",
    "- smoking_status-patient’s smoking status\n",
    "- stroke-0 - no stroke, 1 - suffered stroke"
   ]
  },
  {
   "cell_type": "markdown",
   "metadata": {},
   "source": [
    "## 3. Understanding and Preparing the Data Set"
   ]
  },
  {
   "cell_type": "code",
   "execution_count": 2,
   "metadata": {},
   "outputs": [],
   "source": [
    "# import all necessary libraries\n",
    "import pandas as pd\n",
    "from pandas import DataFrame\n",
    "import numpy as np\n",
    "import matplotlib.pyplot as plt\n",
    "import matplotlib.dates as mdates\n",
    "import matplotlib.cbook as cbook\n",
    "import statistics\n",
    "import seaborn as sns\n"
   ]
  },
  {
   "cell_type": "code",
   "execution_count": 3,
   "metadata": {},
   "outputs": [],
   "source": [
    "# Set up the data\n",
    "\n",
    "filename = 'train_2v.csv'\n",
    "def setdata(filename):\n",
    "    df = pd.read_csv(filename)\n",
    "    # Strip and make column names lowercase so that they are easy to manage. \n",
    "    df.columns = df.columns.str.strip().str.lower()\n",
    "\n",
    "    # Replace characters or remove spaces and make all words lowercase.\n",
    "    df.columns = df.columns.str.replace(' ', '_').str.replace('/', '_').str.replace('(', '').str.replace(')', '')\n",
    "\n",
    "    return df\n",
    "\n",
    "df = setdata(filename)"
   ]
  },
  {
   "cell_type": "code",
   "execution_count": 4,
   "metadata": {},
   "outputs": [
    {
     "name": "stdout",
     "output_type": "stream",
     "text": [
      "Column values in dataframe:  ['id', 'gender', 'age', 'hypertension', 'heart_disease', 'ever_married', 'work_type', 'residence_type', 'avg_glucose_level', 'bmi', 'smoking_status', 'stroke']\n",
      "                 id           age  hypertension  heart_disease  \\\n",
      "count  43400.000000  43400.000000  43400.000000   43400.000000   \n",
      "mean   36326.142350     42.217894      0.093571       0.047512   \n",
      "std    21072.134879     22.519649      0.291235       0.212733   \n",
      "min        1.000000      0.080000      0.000000       0.000000   \n",
      "25%    18038.500000     24.000000      0.000000       0.000000   \n",
      "50%    36351.500000     44.000000      0.000000       0.000000   \n",
      "75%    54514.250000     60.000000      0.000000       0.000000   \n",
      "max    72943.000000     82.000000      1.000000       1.000000   \n",
      "\n",
      "       avg_glucose_level           bmi        stroke  \n",
      "count       43400.000000  41938.000000  43400.000000  \n",
      "mean          104.482750     28.605038      0.018041  \n",
      "std            43.111751      7.770020      0.133103  \n",
      "min            55.000000     10.100000      0.000000  \n",
      "25%            77.540000     23.200000      0.000000  \n",
      "50%            91.580000     27.700000      0.000000  \n",
      "75%           112.070000     32.900000      0.000000  \n",
      "max           291.050000     97.600000      1.000000  \n"
     ]
    }
   ],
   "source": [
    "# What's inside the file? Let's take a preview.\n",
    "def whats_inside(df):\n",
    "    print(\"Column values in dataframe: \", list(df.columns.values)) \n",
    "    print(df.describe())\n",
    "    \n",
    "whats_inside(df)"
   ]
  },
  {
   "cell_type": "code",
   "execution_count": 5,
   "metadata": {},
   "outputs": [
    {
     "name": "stdout",
     "output_type": "stream",
     "text": [
      "There are 43400 unique values in column 'id'.\n",
      "There are 3 unique values in column 'gender'.\n",
      "There are 104 unique values in column 'age'.\n",
      "There are 2 unique values in column 'hypertension'.\n",
      "There are 2 unique values in column 'heart_disease'.\n",
      "There are 2 unique values in column 'ever_married'.\n",
      "There are 5 unique values in column 'work_type'.\n",
      "There are 2 unique values in column 'residence_type'.\n",
      "There are 12543 unique values in column 'avg_glucose_level'.\n",
      "There are 555 unique values in column 'bmi'.\n",
      "There are 3 unique values in column 'smoking_status'.\n",
      "There are 2 unique values in column 'stroke'.\n"
     ]
    }
   ],
   "source": [
    "#List of unique values in the df['name'] column\n",
    "def uniqueval(df):\n",
    "    column_names = list(df.columns.values)\n",
    "    for column_name in column_names:\n",
    "        print(\"There are \" + str(df[column_name].nunique()) + \" unique values in column \\'\" + column_name + \"\\'.\")\n",
    "uniqueval(df)"
   ]
  },
  {
   "cell_type": "markdown",
   "metadata": {},
   "source": [
    "Our dataframe has 43400 entries and many of the categorical columns have binary information (Yes/No responses in the form of 1 and 0, respectively)."
   ]
  },
  {
   "cell_type": "markdown",
   "metadata": {},
   "source": [
    "# 4. Feature Engineering"
   ]
  },
  {
   "cell_type": "code",
   "execution_count": 7,
   "metadata": {},
   "outputs": [
    {
     "data": {
      "text/html": [
       "<div>\n",
       "<style scoped>\n",
       "    .dataframe tbody tr th:only-of-type {\n",
       "        vertical-align: middle;\n",
       "    }\n",
       "\n",
       "    .dataframe tbody tr th {\n",
       "        vertical-align: top;\n",
       "    }\n",
       "\n",
       "    .dataframe thead th {\n",
       "        text-align: right;\n",
       "    }\n",
       "</style>\n",
       "<table border=\"1\" class=\"dataframe\">\n",
       "  <thead>\n",
       "    <tr style=\"text-align: right;\">\n",
       "      <th></th>\n",
       "      <th>id</th>\n",
       "      <th>gender</th>\n",
       "      <th>age</th>\n",
       "      <th>hypertension</th>\n",
       "      <th>heart_disease</th>\n",
       "      <th>ever_married</th>\n",
       "      <th>work_type</th>\n",
       "      <th>residence_type</th>\n",
       "      <th>avg_glucose_level</th>\n",
       "      <th>bmi</th>\n",
       "      <th>smoking_status</th>\n",
       "      <th>stroke</th>\n",
       "    </tr>\n",
       "  </thead>\n",
       "  <tbody>\n",
       "    <tr>\n",
       "      <th>0</th>\n",
       "      <td>30669</td>\n",
       "      <td>Male</td>\n",
       "      <td>3.0</td>\n",
       "      <td>0</td>\n",
       "      <td>0</td>\n",
       "      <td>No</td>\n",
       "      <td>children</td>\n",
       "      <td>Rural</td>\n",
       "      <td>95.12</td>\n",
       "      <td>18.0</td>\n",
       "      <td>NaN</td>\n",
       "      <td>0</td>\n",
       "    </tr>\n",
       "    <tr>\n",
       "      <th>1</th>\n",
       "      <td>30468</td>\n",
       "      <td>Male</td>\n",
       "      <td>58.0</td>\n",
       "      <td>1</td>\n",
       "      <td>0</td>\n",
       "      <td>Yes</td>\n",
       "      <td>Private</td>\n",
       "      <td>Urban</td>\n",
       "      <td>87.96</td>\n",
       "      <td>39.2</td>\n",
       "      <td>never smoked</td>\n",
       "      <td>0</td>\n",
       "    </tr>\n",
       "    <tr>\n",
       "      <th>2</th>\n",
       "      <td>16523</td>\n",
       "      <td>Female</td>\n",
       "      <td>8.0</td>\n",
       "      <td>0</td>\n",
       "      <td>0</td>\n",
       "      <td>No</td>\n",
       "      <td>Private</td>\n",
       "      <td>Urban</td>\n",
       "      <td>110.89</td>\n",
       "      <td>17.6</td>\n",
       "      <td>NaN</td>\n",
       "      <td>0</td>\n",
       "    </tr>\n",
       "    <tr>\n",
       "      <th>3</th>\n",
       "      <td>56543</td>\n",
       "      <td>Female</td>\n",
       "      <td>70.0</td>\n",
       "      <td>0</td>\n",
       "      <td>0</td>\n",
       "      <td>Yes</td>\n",
       "      <td>Private</td>\n",
       "      <td>Rural</td>\n",
       "      <td>69.04</td>\n",
       "      <td>35.9</td>\n",
       "      <td>formerly smoked</td>\n",
       "      <td>0</td>\n",
       "    </tr>\n",
       "    <tr>\n",
       "      <th>4</th>\n",
       "      <td>46136</td>\n",
       "      <td>Male</td>\n",
       "      <td>14.0</td>\n",
       "      <td>0</td>\n",
       "      <td>0</td>\n",
       "      <td>No</td>\n",
       "      <td>Never_worked</td>\n",
       "      <td>Rural</td>\n",
       "      <td>161.28</td>\n",
       "      <td>19.1</td>\n",
       "      <td>NaN</td>\n",
       "      <td>0</td>\n",
       "    </tr>\n",
       "    <tr>\n",
       "      <th>5</th>\n",
       "      <td>32257</td>\n",
       "      <td>Female</td>\n",
       "      <td>47.0</td>\n",
       "      <td>0</td>\n",
       "      <td>0</td>\n",
       "      <td>Yes</td>\n",
       "      <td>Private</td>\n",
       "      <td>Urban</td>\n",
       "      <td>210.95</td>\n",
       "      <td>50.1</td>\n",
       "      <td>NaN</td>\n",
       "      <td>0</td>\n",
       "    </tr>\n",
       "    <tr>\n",
       "      <th>6</th>\n",
       "      <td>52800</td>\n",
       "      <td>Female</td>\n",
       "      <td>52.0</td>\n",
       "      <td>0</td>\n",
       "      <td>0</td>\n",
       "      <td>Yes</td>\n",
       "      <td>Private</td>\n",
       "      <td>Urban</td>\n",
       "      <td>77.59</td>\n",
       "      <td>17.7</td>\n",
       "      <td>formerly smoked</td>\n",
       "      <td>0</td>\n",
       "    </tr>\n",
       "    <tr>\n",
       "      <th>7</th>\n",
       "      <td>41413</td>\n",
       "      <td>Female</td>\n",
       "      <td>75.0</td>\n",
       "      <td>0</td>\n",
       "      <td>1</td>\n",
       "      <td>Yes</td>\n",
       "      <td>Self-employed</td>\n",
       "      <td>Rural</td>\n",
       "      <td>243.53</td>\n",
       "      <td>27.0</td>\n",
       "      <td>never smoked</td>\n",
       "      <td>0</td>\n",
       "    </tr>\n",
       "    <tr>\n",
       "      <th>8</th>\n",
       "      <td>15266</td>\n",
       "      <td>Female</td>\n",
       "      <td>32.0</td>\n",
       "      <td>0</td>\n",
       "      <td>0</td>\n",
       "      <td>Yes</td>\n",
       "      <td>Private</td>\n",
       "      <td>Rural</td>\n",
       "      <td>77.67</td>\n",
       "      <td>32.3</td>\n",
       "      <td>smokes</td>\n",
       "      <td>0</td>\n",
       "    </tr>\n",
       "    <tr>\n",
       "      <th>9</th>\n",
       "      <td>28674</td>\n",
       "      <td>Female</td>\n",
       "      <td>74.0</td>\n",
       "      <td>1</td>\n",
       "      <td>0</td>\n",
       "      <td>Yes</td>\n",
       "      <td>Self-employed</td>\n",
       "      <td>Urban</td>\n",
       "      <td>205.84</td>\n",
       "      <td>54.6</td>\n",
       "      <td>never smoked</td>\n",
       "      <td>0</td>\n",
       "    </tr>\n",
       "  </tbody>\n",
       "</table>\n",
       "</div>"
      ],
      "text/plain": [
       "      id  gender   age  hypertension  heart_disease ever_married  \\\n",
       "0  30669    Male   3.0             0              0           No   \n",
       "1  30468    Male  58.0             1              0          Yes   \n",
       "2  16523  Female   8.0             0              0           No   \n",
       "3  56543  Female  70.0             0              0          Yes   \n",
       "4  46136    Male  14.0             0              0           No   \n",
       "5  32257  Female  47.0             0              0          Yes   \n",
       "6  52800  Female  52.0             0              0          Yes   \n",
       "7  41413  Female  75.0             0              1          Yes   \n",
       "8  15266  Female  32.0             0              0          Yes   \n",
       "9  28674  Female  74.0             1              0          Yes   \n",
       "\n",
       "       work_type residence_type  avg_glucose_level   bmi   smoking_status  \\\n",
       "0       children          Rural              95.12  18.0              NaN   \n",
       "1        Private          Urban              87.96  39.2     never smoked   \n",
       "2        Private          Urban             110.89  17.6              NaN   \n",
       "3        Private          Rural              69.04  35.9  formerly smoked   \n",
       "4   Never_worked          Rural             161.28  19.1              NaN   \n",
       "5        Private          Urban             210.95  50.1              NaN   \n",
       "6        Private          Urban              77.59  17.7  formerly smoked   \n",
       "7  Self-employed          Rural             243.53  27.0     never smoked   \n",
       "8        Private          Rural              77.67  32.3           smokes   \n",
       "9  Self-employed          Urban             205.84  54.6     never smoked   \n",
       "\n",
       "   stroke  \n",
       "0       0  \n",
       "1       0  \n",
       "2       0  \n",
       "3       0  \n",
       "4       0  \n",
       "5       0  \n",
       "6       0  \n",
       "7       0  \n",
       "8       0  \n",
       "9       0  "
      ]
     },
     "execution_count": 7,
     "metadata": {},
     "output_type": "execute_result"
    }
   ],
   "source": [
    "df.head(10)"
   ]
  },
  {
   "cell_type": "code",
   "execution_count": 15,
   "metadata": {},
   "outputs": [
    {
     "name": "stdout",
     "output_type": "stream",
     "text": [
      "First df shape was: 43400\n",
      "Second df shape was: 43400\n",
      "We have removed 0 entries\n"
     ]
    }
   ],
   "source": [
    "# Some data cleaning\n",
    "df1 = df.dropna(subset=['gender','stroke']).copy()\n",
    "\n",
    "# make a function check changes in dfs\n",
    "def checkshape (df,df1):\n",
    "    print(\"First df shape was:\", df.shape[0])\n",
    "    print(\"Second df shape was:\", df1.shape[0])\n",
    "    print(\"We have removed\", df.shape[0] - df1.shape[0], \"entries\")\n",
    "checkshape(df,df1)"
   ]
  },
  {
   "cell_type": "code",
   "execution_count": 17,
   "metadata": {},
   "outputs": [
    {
     "name": "stdout",
     "output_type": "stream",
     "text": [
      "First df shape was: 43400\n",
      "Second df shape was: 43389\n",
      "We have removed 11 entries\n"
     ]
    }
   ],
   "source": [
    "# Remove entries without Male/Female gender ascription\n",
    "df2 = df1[df1.gender.apply(lambda x: x in ['Male','Female'])]\n",
    "checkshape(df,df2)"
   ]
  },
  {
   "cell_type": "code",
   "execution_count": 21,
   "metadata": {},
   "outputs": [
    {
     "data": {
      "text/html": [
       "<div>\n",
       "<style scoped>\n",
       "    .dataframe tbody tr th:only-of-type {\n",
       "        vertical-align: middle;\n",
       "    }\n",
       "\n",
       "    .dataframe tbody tr th {\n",
       "        vertical-align: top;\n",
       "    }\n",
       "\n",
       "    .dataframe thead th {\n",
       "        text-align: right;\n",
       "    }\n",
       "</style>\n",
       "<table border=\"1\" class=\"dataframe\">\n",
       "  <thead>\n",
       "    <tr style=\"text-align: right;\">\n",
       "      <th></th>\n",
       "      <th>id</th>\n",
       "      <th>age</th>\n",
       "      <th>hypertension</th>\n",
       "      <th>heart_disease</th>\n",
       "      <th>avg_glucose_level</th>\n",
       "      <th>bmi</th>\n",
       "    </tr>\n",
       "    <tr>\n",
       "      <th>stroke</th>\n",
       "      <th></th>\n",
       "      <th></th>\n",
       "      <th></th>\n",
       "      <th></th>\n",
       "      <th></th>\n",
       "      <th></th>\n",
       "    </tr>\n",
       "  </thead>\n",
       "  <tbody>\n",
       "    <tr>\n",
       "      <th>0</th>\n",
       "      <td>36317.861522</td>\n",
       "      <td>41.743329</td>\n",
       "      <td>0.090621</td>\n",
       "      <td>0.044243</td>\n",
       "      <td>104.025555</td>\n",
       "      <td>28.585487</td>\n",
       "    </tr>\n",
       "    <tr>\n",
       "      <th>1</th>\n",
       "      <td>36788.836526</td>\n",
       "      <td>68.143448</td>\n",
       "      <td>0.255428</td>\n",
       "      <td>0.226054</td>\n",
       "      <td>129.582669</td>\n",
       "      <td>29.868118</td>\n",
       "    </tr>\n",
       "  </tbody>\n",
       "</table>\n",
       "</div>"
      ],
      "text/plain": [
       "                  id        age  hypertension  heart_disease  \\\n",
       "stroke                                                         \n",
       "0       36317.861522  41.743329      0.090621       0.044243   \n",
       "1       36788.836526  68.143448      0.255428       0.226054   \n",
       "\n",
       "        avg_glucose_level        bmi  \n",
       "stroke                                \n",
       "0              104.025555  28.585487  \n",
       "1              129.582669  29.868118  "
      ]
     },
     "execution_count": 21,
     "metadata": {},
     "output_type": "execute_result"
    }
   ],
   "source": [
    "df3 = df2.groupby('stroke').mean()"
   ]
  },
  {
   "cell_type": "code",
   "execution_count": 29,
   "metadata": {},
   "outputs": [
    {
     "data": {
      "image/png": "[encoded data removed]",
      "text/plain": [
       "<matplotlib.figure.Figure at 0x12806cd68>"
      ]
     },
     "metadata": {},
     "output_type": "display_data"
    }
   ],
   "source": [
    "# Setting the overall aesthetic.\n",
    "sns.set(style=\"whitegrid\")\n",
    "plt.figure(figsize=(8,4))\n",
    "\n",
    "ax = sns.boxplot(x='stroke',y='age',data=df2,palette='pastel')  \n",
    "plt.title('Plot 1: Distribution of Stroke Incidence by Age')\n",
    "plt.xticks(rotation=30)\n",
    "#sns.despine(offset=10, trim=True)\n",
    "ax.set(xlabel='Stroke?', ylabel='Age')\n",
    "ax.set(xlabel='Stroke?', ylabel='Age')\n",
    "# Put a legend to the right side\n",
    "#ax.legend(loc='best', bbox_to_anchor=(1.15, .5), ncol=1)\n",
    "plt.show()"
   ]
  },
  {
   "cell_type": "code",
   "execution_count": 32,
   "metadata": {},
   "outputs": [
    {
     "data": {
      "image/png": "[encoded data removed]",
      "text/plain": [
       "<matplotlib.figure.Figure at 0x11ec13b00>"
      ]
     },
     "metadata": {},
     "output_type": "display_data"
    }
   ],
   "source": [
    "# Setting the overall aesthetic.\n",
    "sns.set(style=\"whitegrid\")\n",
    "plt.figure(figsize=(8,4))\n",
    "\n",
    "ax = sns.boxplot(x='stroke',y='age',hue = 'hypertension', data=df2,palette='pastel')  \n",
    "plt.title('Plot 2: Distribution of Stroke Incidence by Age and Hypertension')\n",
    "plt.xticks(rotation=30)\n",
    "#sns.despine(offset=10, trim=True)\n",
    "ax.set(xlabel='Stroke?', ylabel='Age')\n",
    "ax.set(xlabel='Stroke?', ylabel='Age')\n",
    "# Put a legend to the right side\n",
    "#ax.legend(loc='best', bbox_to_anchor=(1.15, .5), ncol=1)\n",
    "plt.show()"
   ]
  },
  {
   "cell_type": "code",
   "execution_count": 34,
   "metadata": {},
   "outputs": [
    {
     "data": {
      "image/png": "[encoded data removed]",
      "text/plain": [
       "<matplotlib.figure.Figure at 0x127e9d390>"
      ]
     },
     "metadata": {},
     "output_type": "display_data"
    }
   ],
   "source": [
    "# Setting the overall aesthetic.\n",
    "sns.set(style=\"whitegrid\")\n",
    "plt.figure(figsize=(8,4))\n",
    "\n",
    "ax = sns.boxplot(x='stroke',y='age',hue = 'heart_disease', data=df2,palette='pastel')  \n",
    "plt.title('Plot 2: Distribution of Stroke Incidence by Age and Heart Disease')\n",
    "plt.xticks(rotation=30)\n",
    "#sns.despine(offset=10, trim=True)\n",
    "ax.set(xlabel='Stroke?', ylabel='Age')\n",
    "ax.set(xlabel='Stroke?', ylabel='Age')\n",
    "# Put a legend to the right side\n",
    "#ax.legend(loc='best', bbox_to_anchor=(1.15, .5), ncol=1)\n",
    "plt.show()"
   ]
  },
  {
   "cell_type": "code",
   "execution_count": 40,
   "metadata": {},
   "outputs": [
    {
     "data": {
      "image/png": "[encoded data removed]",
      "text/plain": [
       "<matplotlib.figure.Figure at 0x128c59438>"
      ]
     },
     "metadata": {},
     "output_type": "display_data"
    }
   ],
   "source": [
    "# Setting the overall aesthetic.\n",
    "sns.set(style=\"whitegrid\")\n",
    "plt.figure(figsize=(8,4))\n",
    "\n",
    "ax = sns.boxplot(x='stroke',y='age',hue = 'ever_married', data=df2,palette='pastel')  \n",
    "plt.title('Plot 2: Distribution of Stroke Incidence by Age and Marriage Status')\n",
    "plt.xticks(rotation=30)\n",
    "#sns.despine(offset=10, trim=True)\n",
    "ax.set(xlabel='Stroke?', ylabel='Age')\n",
    "ax.set(xlabel='Stroke?', ylabel='Age')\n",
    "# Put a legend to the right side\n",
    "ax.legend(loc='best', bbox_to_anchor=(1.3, .5), ncol=1)\n",
    "plt.show()"
   ]
  },
  {
   "cell_type": "code",
   "execution_count": 39,
   "metadata": {},
   "outputs": [
    {
     "data": {
      "image/png": "[encoded data removed]",
      "text/plain": [
       "<matplotlib.figure.Figure at 0x128958898>"
      ]
     },
     "metadata": {},
     "output_type": "display_data"
    }
   ],
   "source": [
    "# Setting the overall aesthetic.\n",
    "sns.set(style=\"whitegrid\")\n",
    "plt.figure(figsize=(8,4))\n",
    "\n",
    "ax = sns.boxplot(x='stroke',y='age',hue = 'work_type', data=df2,palette='pastel')  \n",
    "plt.title('Plot 2: Distribution of Stroke Incidence by Age and Hypertension')\n",
    "plt.xticks(rotation=30)\n",
    "#sns.despine(offset=10, trim=True)\n",
    "ax.set(xlabel='Stroke?', ylabel='Age')\n",
    "ax.set(xlabel='Stroke?', ylabel='Age')\n",
    "# Put a legend to the right side\n",
    "ax.legend(loc='best', bbox_to_anchor=(1.3, .5), ncol=1)\n",
    "plt.show()"
   ]
  },
  {
   "cell_type": "markdown",
   "metadata": {},
   "source": [
    "# 5. Exploratory Data Analysis"
   ]
  },
  {
   "cell_type": "code",
   "execution_count": null,
   "metadata": {},
   "outputs": [],
   "source": []
  },
  {
   "cell_type": "markdown",
   "metadata": {},
   "source": [
    "#### Pros and Cons of the Dataset:\n",
    "Pros: \n",
    "- Data is relatively clean and easy to understand\n",
    "- Has a variety of categories one can consider in investigating stroke\n",
    "- Analysis of dataset replicates views present in the literature regarding characteristics that correlate with stroke incidence\n",
    "Cons: \n",
    "- We don't know where the dataset originates from (is it from a particular state or country, when was this dataset collected, etc).\n",
    "- We don't know if there was any bias in collecting this data - this ties in with not knowing the origin of this dataset\n",
    "- We don't have details on # of incidences of stroke for patients; this removes resolution on whether some charactertics are predictive of repeat strokes. \n",
    "- Ethnicity and socioeconomic situation are not listed; these may be contributing (or in this dataframe's case, confounding) variables to consider.\n"
   ]
  },
  {
   "cell_type": "markdown",
   "metadata": {},
   "source": [
    "## 6. Future Research Plan\n",
    "- Analysis that highlights experimental hypothesis.\n",
    "- A rollout plan showing how to implement and rollout the experiment\n",
    "- An evaluation plan showing what constitutes success in this experiment"
   ]
  },
  {
   "cell_type": "markdown",
   "metadata": {},
   "source": [
    "### 6a. Analysis and Hypothesis\n",
    "We note that increased *blah - fill later* leads to increases in stroke incidence. We hypothesize that giving patients low dose metformin on a daily basis can reduce *blah - fill later* and therefore reduce incidence of stroke.\n",
    "\n",
    "See link for further background: https://www.ncbi.nlm.nih.gov/pubmed/24119365"
   ]
  },
  {
   "cell_type": "markdown",
   "metadata": {},
   "source": [
    "### 6b. Rollout Plan\n",
    "50 patients ages 40-50 that have (x range) of (y measure) will be divided into two groups: 25 participants in the control group and 25 participants in the experimental group (aka A and B groups, in line with A/B testing).\n",
    "\n",
    "Patients in the control group will be given a placebo pill to \n",
    "\n"
   ]
  },
  {
   "cell_type": "markdown",
   "metadata": {},
   "source": [
    "### 6b. Evaluation Plan\n"
   ]
  },
  {
   "cell_type": "code",
   "execution_count": null,
   "metadata": {},
   "outputs": [],
   "source": []
  }
 ],
 "metadata": {
  "kernelspec": {
   "display_name": "Python 3",
   "language": "python",
   "name": "python3"
  },
  "language_info": {
   "codemirror_mode": {
    "name": "ipython",
    "version": 3
   },
   "file_extension": ".py",
   "mimetype": "text/x-python",
   "name": "python",
   "nbconvert_exporter": "python",
   "pygments_lexer": "ipython3",
   "version": "3.6.4"
  }
 },
 "nbformat": 4,
 "nbformat_minor": 2
}
